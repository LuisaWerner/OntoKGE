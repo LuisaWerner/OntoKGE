{
 "cells": [
  {
   "cell_type": "code",
   "execution_count": null,
   "id": "6a6e4132",
   "metadata": {},
   "outputs": [],
   "source": []
  },
  {
   "cell_type": "code",
   "execution_count": 1,
   "id": "d2229106",
   "metadata": {},
   "outputs": [],
   "source": [
    "from pykeen.triples import TriplesFactory\n",
    "import torch \n",
    "import numpy as np"
   ]
  },
  {
   "cell_type": "code",
   "execution_count": 2,
   "id": "8a6b47ab",
   "metadata": {},
   "outputs": [],
   "source": [
    "all_triples = TriplesFactory.from_path('all.txt')\n",
    "train = TriplesFactory.from_path('train.txt', entity_to_id=all_triples.entity_to_id,\n",
    "                                 relation_to_id=all_triples.relation_to_id,\n",
    "                                 create_inverse_triples=False)\n",
    "valid = TriplesFactory.from_path('valid.txt', entity_to_id=all_triples.entity_to_id,\n",
    "                                 relation_to_id=all_triples.relation_to_id)\n",
    "test = TriplesFactory.from_path('test.txt', entity_to_id=all_triples.entity_to_id,\n",
    "                                relation_to_id=all_triples.relation_to_id)"
   ]
  },
  {
   "cell_type": "code",
   "execution_count": 3,
   "id": "fccbb9c6",
   "metadata": {},
   "outputs": [
    {
     "name": "stdout",
     "output_type": "stream",
     "text": [
      "Train: TriplesFactory(num_entities=40943, num_relations=18, create_inverse_triples=False, num_triples=141442, path=\"/Users/werner/PycharmProjects/nesy_benchmark/datasets/wordnet/train.txt\")\n",
      "Valid: TriplesFactory(num_entities=40943, num_relations=18, create_inverse_triples=False, num_triples=5000, path=\"/Users/werner/PycharmProjects/nesy_benchmark/datasets/wordnet/valid.txt\")\n",
      "Test: TriplesFactory(num_entities=40943, num_relations=18, create_inverse_triples=False, num_triples=5000, path=\"/Users/werner/PycharmProjects/nesy_benchmark/datasets/wordnet/test.txt\")\n"
     ]
    }
   ],
   "source": [
    "print(f\"Train: {train}\")\n",
    "print(f\"Valid: {valid}\")\n",
    "print(f\"Test: {test}\")"
   ]
  }
 ],
 "metadata": {
  "kernelspec": {
   "display_name": "nesy_benchmark_ltn",
   "language": "python",
   "name": "python3"
  },
  "language_info": {
   "codemirror_mode": {
    "name": "ipython",
    "version": 3
   },
   "file_extension": ".py",
   "mimetype": "text/x-python",
   "name": "python",
   "nbconvert_exporter": "python",
   "pygments_lexer": "ipython3",
   "version": "3.11.8"
  }
 },
 "nbformat": 4,
 "nbformat_minor": 5
}
