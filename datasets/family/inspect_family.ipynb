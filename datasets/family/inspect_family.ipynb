{
 "cells": [
  {
   "cell_type": "markdown",
   "id": "90c974c929809849",
   "metadata": {
    "collapsed": false
   },
   "source": [
    "# The Family Dataset\n",
    "This script inspects the family dataset to find out more about what is in there"
   ]
  },
  {
   "cell_type": "code",
   "execution_count": 1,
   "id": "8cd71137051ab94d",
   "metadata": {
    "ExecuteTime": {
     "end_time": "2024-01-08T13:47:14.277429Z",
     "start_time": "2024-01-08T13:47:14.270106Z"
    },
    "collapsed": false
   },
   "outputs": [],
   "source": [
    "from pykeen.triples import TriplesFactory\n",
    "import torch \n",
    "import numpy as np"
   ]
  },
  {
   "cell_type": "code",
   "execution_count": 2,
   "id": "bceb229f37c5af99",
   "metadata": {
    "ExecuteTime": {
     "end_time": "2024-01-08T13:47:15.101289Z",
     "start_time": "2024-01-08T13:47:15.042020Z"
    },
    "collapsed": false
   },
   "outputs": [],
   "source": [
    "all_triples = TriplesFactory.from_path('all.txt')\n",
    "train = TriplesFactory.from_path('train.txt', entity_to_id=all_triples.entity_to_id,\n",
    "                                 relation_to_id=all_triples.relation_to_id,\n",
    "                                 create_inverse_triples=False)\n",
    "valid = TriplesFactory.from_path('valid.txt', entity_to_id=all_triples.entity_to_id,\n",
    "                                 relation_to_id=all_triples.relation_to_id)\n",
    "test = TriplesFactory.from_path('test.txt', entity_to_id=all_triples.entity_to_id,\n",
    "                                relation_to_id=all_triples.relation_to_id)"
   ]
  },
  {
   "cell_type": "code",
   "execution_count": 3,
   "id": "d1639636",
   "metadata": {},
   "outputs": [
    {
     "name": "stdout",
     "output_type": "stream",
     "text": [
      "Train: TriplesFactory(num_entities=3007, num_relations=12, create_inverse_triples=False, num_triples=5868, path=\"/Users/werner/PycharmProjects/nesy_benchmark/datasets/family/train.txt\")\n",
      "Valid: TriplesFactory(num_entities=3007, num_relations=12, create_inverse_triples=False, num_triples=2038, path=\"/Users/werner/PycharmProjects/nesy_benchmark/datasets/family/valid.txt\")\n",
      "Test: TriplesFactory(num_entities=3007, num_relations=12, create_inverse_triples=False, num_triples=2835, path=\"/Users/werner/PycharmProjects/nesy_benchmark/datasets/family/test.txt\")\n"
     ]
    }
   ],
   "source": [
    "print(f\"Train: {train}\")\n",
    "print(f\"Valid: {valid}\")\n",
    "print(f\"Test: {test}\")"
   ]
  },
  {
   "cell_type": "markdown",
   "id": "cf71259c4d82fd67",
   "metadata": {
    "collapsed": false
   },
   "source": [
    "## Relation types "
   ]
  },
  {
   "cell_type": "code",
   "execution_count": 24,
   "id": "9bf75de0a2d08a39",
   "metadata": {
    "ExecuteTime": {
     "end_time": "2024-01-08T13:47:16.685865Z",
     "start_time": "2024-01-08T13:47:16.678801Z"
    },
    "collapsed": false
   },
   "outputs": [
    {
     "name": "stdout",
     "output_type": "stream",
     "text": [
      "{'aunt': 0, 'brother': 1, 'daughter': 2, 'father': 3, 'husband': 4, 'mother': 5, 'nephew': 6, 'niece': 7, 'sister': 8, 'son': 9, 'uncle': 10, 'wife': 11}\n"
     ]
    }
   ],
   "source": [
    "print(all_triples.relation_to_id)"
   ]
  },
  {
   "cell_type": "markdown",
   "id": "69f03bc006e06e1a",
   "metadata": {
    "collapsed": false
   },
   "source": [
    "## Count triples per relation"
   ]
  },
  {
   "cell_type": "code",
   "execution_count": 25,
   "id": "de08fd625db9eeb6",
   "metadata": {
    "ExecuteTime": {
     "end_time": "2024-01-08T13:47:18.348707Z",
     "start_time": "2024-01-08T13:47:18.236649Z"
    },
    "collapsed": false
   },
   "outputs": [
    {
     "name": "stdout",
     "output_type": "stream",
     "text": [
      "Count occurrences of relations in all.txt:\n",
      "aunt, 2990\n",
      "brother, 3076\n",
      "daughter, 1589\n",
      "father, 2010\n",
      "husband, 1138\n",
      "mother, 1714\n",
      "nephew, 3633\n",
      "niece, 2815\n",
      "sister, 2658\n",
      "son, 2110\n",
      "uncle, 3485\n",
      "wife, 1138\n",
      "\n",
      "Number of triples in all.txt: 28356\n"
     ]
    },
    {
     "data": {
      "image/png": "[encoded data removed]",
      "text/plain": [
       "<Figure size 640x480 with 1 Axes>"
      ]
     },
     "metadata": {},
     "output_type": "display_data"
    }
   ],
   "source": [
    "import matplotlib.pyplot as plt\n",
    "def count_rels(filename, plot=False): \n",
    "    \"\"\"counts occurrence of relations and plots it as histogram \"\"\"\n",
    "    _triples = open(filename).readlines()\n",
    "    edge_index, edge_type = [], []\n",
    "    for line in _triples:\n",
    "        head, relation, tail = line.split('\\t')\n",
    "        if tail.endswith('\\n'):\n",
    "            tail = tail[:-1]\n",
    "        edge_index.append([int(head), int(tail)])\n",
    "        edge_type.append(relation)\n",
    "    \n",
    "    print(f'Count occurrences of relations in {filename}:')\n",
    "    val, cnt = [], []\n",
    "    for v in sorted(set(edge_type)):\n",
    "        print(f'{v}, {edge_type.count(v)}')\n",
    "        val.append(v)\n",
    "        cnt.append(edge_type.count(v))\n",
    "    if plot:\n",
    "        plt.hist(val, weights=cnt)\n",
    "        plt.title(f'Occurences of relations for {filename}')\n",
    "    print(f'\\nNumber of triples in {filename}: {len(_triples)}\\n\\n')\n",
    "\n",
    "count_rels('all.txt', plot=True)"
   ]
  },
  {
   "cell_type": "code",
   "execution_count": 26,
   "id": "ab64f2a3faa34e8f",
   "metadata": {
    "ExecuteTime": {
     "end_time": "2024-01-08T13:47:19.211998Z",
     "start_time": "2024-01-08T13:47:19.210034Z"
    },
    "collapsed": false
   },
   "outputs": [
    {
     "name": "stdout",
     "output_type": "stream",
     "text": [
      "Count occurrences of relations in train.txt:\n",
      "aunt, 622\n",
      "brother, 633\n",
      "daughter, 325\n",
      "father, 412\n",
      "husband, 239\n",
      "mother, 352\n",
      "nephew, 757\n",
      "niece, 578\n",
      "sister, 552\n",
      "son, 440\n",
      "uncle, 721\n",
      "wife, 237\n",
      "\n",
      "Number of triples in train.txt: 5868\n"
     ]
    }
   ],
   "source": [
    "count_rels('train.txt', plot=False)"
   ]
  },
  {
   "cell_type": "code",
   "execution_count": 27,
   "id": "618ec8019a95a276",
   "metadata": {
    "ExecuteTime": {
     "end_time": "2024-01-08T13:47:20.123732Z",
     "start_time": "2024-01-08T13:47:20.118746Z"
    },
    "collapsed": false
   },
   "outputs": [
    {
     "name": "stdout",
     "output_type": "stream",
     "text": [
      "Count occurrences of relations in valid.txt:\n",
      "aunt, 216\n",
      "brother, 220\n",
      "daughter, 113\n",
      "father, 143\n",
      "husband, 83\n",
      "mother, 122\n",
      "nephew, 263\n",
      "niece, 201\n",
      "sister, 192\n",
      "son, 153\n",
      "uncle, 250\n",
      "wife, 82\n",
      "\n",
      "Number of triples in valid.txt: 2038\n"
     ]
    }
   ],
   "source": [
    "count_rels('valid.txt', plot=False)"
   ]
  },
  {
   "cell_type": "code",
   "execution_count": 28,
   "id": "20b45693637b1bb2",
   "metadata": {
    "ExecuteTime": {
     "end_time": "2024-01-08T13:47:20.875351Z",
     "start_time": "2024-01-08T13:47:20.866582Z"
    },
    "collapsed": false
   },
   "outputs": [
    {
     "name": "stdout",
     "output_type": "stream",
     "text": [
      "Count occurrences of relations in test.txt:\n",
      "aunt, 286\n",
      "brother, 321\n",
      "daughter, 173\n",
      "father, 219\n",
      "husband, 99\n",
      "mother, 184\n",
      "nephew, 341\n",
      "niece, 301\n",
      "sister, 255\n",
      "son, 197\n",
      "uncle, 351\n",
      "wife, 108\n",
      "\n",
      "Number of triples in test.txt: 2835\n"
     ]
    }
   ],
   "source": [
    "count_rels('test.txt', plot=False)"
   ]
  },
  {
   "cell_type": "markdown",
   "id": "30af10b3ae6d0c63",
   "metadata": {
    "collapsed": false
   },
   "source": [
    "# One-to-many relations ?"
   ]
  },
  {
   "cell_type": "code",
   "execution_count": 33,
   "id": "1e0770204dc3f0ea",
   "metadata": {
    "ExecuteTime": {
     "end_time": "2024-01-08T14:06:02.254644Z",
     "start_time": "2024-01-08T14:06:01.776698Z"
    },
    "collapsed": false
   },
   "outputs": [
    {
     "name": "stdout",
     "output_type": "stream",
     "text": [
      "\n",
      "\n",
      "0. Relation <aunt>\n",
      "Number of unique heads with relation <aunt> : 428\n",
      "Number of unique heads with relation <aunt> : 1034\n",
      "################################# Heads #################################\n",
      "(head, <aunt>, tail) - One head has minimum 1 different tails\n",
      "(head, <aunt>, tail) - One head has in average 6.985981308411215 different tails\n",
      "(head, <aunt>, tail) - One head has median 5.0 different tails\n",
      "(head, <aunt>, tail) - One head has maximum 40 different tails\n",
      "################################# Heads #################################\n",
      "(head, <aunt>, tail) - One head has minimum 1 different heads\n",
      "(head, <aunt>, tail) - One head has in average 2.8916827852998064 different heads\n",
      "(head, <aunt>, tail) - One head has median 3.0 different heads\n",
      "(head, <aunt>, tail) - One head has maximum 11 different heads\n",
      "\n",
      "\n",
      "1. Relation <brother>\n",
      "Number of unique heads with relation <brother> : 811\n",
      "Number of unique heads with relation <brother> : 1246\n",
      "################################# Heads #################################\n",
      "(head, <brother>, tail) - One head has minimum 1 different tails\n",
      "(head, <brother>, tail) - One head has in average 3.7928483353884093 different tails\n",
      "(head, <brother>, tail) - One head has median 3.0 different tails\n",
      "(head, <brother>, tail) - One head has maximum 14 different tails\n",
      "################################# Heads #################################\n",
      "(head, <brother>, tail) - One head has minimum 1 different heads\n",
      "(head, <brother>, tail) - One head has in average 2.4686998394863564 different heads\n",
      "(head, <brother>, tail) - One head has median 2.0 different heads\n",
      "(head, <brother>, tail) - One head has maximum 9 different heads\n",
      "\n",
      "\n",
      "2. Relation <daughter>\n",
      "Number of unique heads with relation <daughter> : 863\n",
      "Number of unique heads with relation <daughter> : 934\n",
      "################################# Heads #################################\n",
      "(head, <daughter>, tail) - One head has minimum 1 different tails\n",
      "(head, <daughter>, tail) - One head has in average 1.8412514484356894 different tails\n",
      "(head, <daughter>, tail) - One head has median 2.0 different tails\n",
      "(head, <daughter>, tail) - One head has maximum 2 different tails\n",
      "################################# Heads #################################\n",
      "(head, <daughter>, tail) - One head has minimum 1 different heads\n",
      "(head, <daughter>, tail) - One head has in average 1.7012847965738758 different heads\n",
      "(head, <daughter>, tail) - One head has median 1.0 different heads\n",
      "(head, <daughter>, tail) - One head has maximum 12 different heads\n",
      "\n",
      "\n",
      "3. Relation <father>\n",
      "Number of unique heads with relation <father> : 909\n",
      "Number of unique heads with relation <father> : 2010\n",
      "################################# Heads #################################\n",
      "(head, <father>, tail) - One head has minimum 1 different tails\n",
      "(head, <father>, tail) - One head has in average 2.211221122112211 different tails\n",
      "(head, <father>, tail) - One head has median 1.0 different tails\n",
      "(head, <father>, tail) - One head has maximum 18 different tails\n",
      "################################# Heads #################################\n",
      "(head, <father>, tail) - One head has minimum 1 different heads\n",
      "(head, <father>, tail) - One head has in average 1.0 different heads\n",
      "(head, <father>, tail) - One head has median 1.0 different heads\n",
      "(head, <father>, tail) - One head has maximum 1 different heads\n",
      "\n",
      "\n",
      "4. Relation <husband>\n",
      "Number of unique heads with relation <husband> : 976\n",
      "Number of unique heads with relation <husband> : 1038\n",
      "################################# Heads #################################\n",
      "(head, <husband>, tail) - One head has minimum 1 different tails\n",
      "(head, <husband>, tail) - One head has in average 1.165983606557377 different tails\n",
      "(head, <husband>, tail) - One head has median 1.0 different tails\n",
      "(head, <husband>, tail) - One head has maximum 6 different tails\n",
      "################################# Heads #################################\n",
      "(head, <husband>, tail) - One head has minimum 1 different heads\n",
      "(head, <husband>, tail) - One head has in average 1.0963391136801541 different heads\n",
      "(head, <husband>, tail) - One head has median 1.0 different heads\n",
      "(head, <husband>, tail) - One head has maximum 4 different heads\n",
      "\n",
      "\n",
      "5. Relation <mother>\n",
      "Number of unique heads with relation <mother> : 686\n",
      "Number of unique heads with relation <mother> : 1714\n",
      "################################# Heads #################################\n",
      "(head, <mother>, tail) - One head has minimum 1 different tails\n",
      "(head, <mother>, tail) - One head has in average 2.498542274052478 different tails\n",
      "(head, <mother>, tail) - One head has median 2.0 different tails\n",
      "(head, <mother>, tail) - One head has maximum 15 different tails\n",
      "################################# Heads #################################\n",
      "(head, <mother>, tail) - One head has minimum 1 different heads\n",
      "(head, <mother>, tail) - One head has in average 1.0 different heads\n",
      "(head, <mother>, tail) - One head has median 1.0 different heads\n",
      "(head, <mother>, tail) - One head has maximum 1 different heads\n",
      "\n",
      "\n",
      "6. Relation <nephew>\n",
      "Number of unique heads with relation <nephew> : 758\n",
      "Number of unique heads with relation <nephew> : 905\n",
      "################################# Heads #################################\n",
      "(head, <nephew>, tail) - One head has minimum 1 different tails\n",
      "(head, <nephew>, tail) - One head has in average 4.7928759894459105 different tails\n",
      "(head, <nephew>, tail) - One head has median 4.0 different tails\n",
      "(head, <nephew>, tail) - One head has maximum 17 different tails\n",
      "################################# Heads #################################\n",
      "(head, <nephew>, tail) - One head has minimum 1 different heads\n",
      "(head, <nephew>, tail) - One head has in average 4.0143646408839775 different heads\n",
      "(head, <nephew>, tail) - One head has median 3.0 different heads\n",
      "(head, <nephew>, tail) - One head has maximum 19 different heads\n",
      "\n",
      "\n",
      "7. Relation <niece>\n",
      "Number of unique heads with relation <niece> : 523\n",
      "Number of unique heads with relation <niece> : 733\n",
      "################################# Heads #################################\n",
      "(head, <niece>, tail) - One head has minimum 1 different tails\n",
      "(head, <niece>, tail) - One head has in average 5.382409177820268 different tails\n",
      "(head, <niece>, tail) - One head has median 4.0 different tails\n",
      "(head, <niece>, tail) - One head has maximum 20 different tails\n",
      "################################# Heads #################################\n",
      "(head, <niece>, tail) - One head has minimum 1 different heads\n",
      "(head, <niece>, tail) - One head has in average 3.840381991814461 different heads\n",
      "(head, <niece>, tail) - One head has median 3.0 different heads\n",
      "(head, <niece>, tail) - One head has maximum 22 different heads\n",
      "\n",
      "\n",
      "8. Relation <sister>\n",
      "Number of unique heads with relation <sister> : 612\n",
      "Number of unique heads with relation <sister> : 1085\n",
      "################################# Heads #################################\n",
      "(head, <sister>, tail) - One head has minimum 1 different tails\n",
      "(head, <sister>, tail) - One head has in average 4.3431372549019605 different tails\n",
      "(head, <sister>, tail) - One head has median 4.0 different tails\n",
      "(head, <sister>, tail) - One head has maximum 14 different tails\n",
      "################################# Heads #################################\n",
      "(head, <sister>, tail) - One head has minimum 1 different heads\n",
      "(head, <sister>, tail) - One head has in average 2.4497695852534562 different heads\n",
      "(head, <sister>, tail) - One head has median 2.0 different heads\n",
      "(head, <sister>, tail) - One head has maximum 11 different heads\n",
      "\n",
      "\n",
      "9. Relation <son>\n",
      "Number of unique heads with relation <son> : 1142\n",
      "Number of unique heads with relation <son> : 1177\n",
      "################################# Heads #################################\n",
      "(head, <son>, tail) - One head has minimum 1 different tails\n",
      "(head, <son>, tail) - One head has in average 1.8476357267950962 different tails\n",
      "(head, <son>, tail) - One head has median 2.0 different tails\n",
      "(head, <son>, tail) - One head has maximum 2 different tails\n",
      "################################# Heads #################################\n",
      "(head, <son>, tail) - One head has minimum 1 different heads\n",
      "(head, <son>, tail) - One head has in average 1.7926932880203907 different heads\n",
      "(head, <son>, tail) - One head has median 1.0 different heads\n",
      "(head, <son>, tail) - One head has maximum 9 different heads\n",
      "\n",
      "\n",
      "10. Relation <uncle>\n",
      "Number of unique heads with relation <uncle> : 528\n",
      "Number of unique heads with relation <uncle> : 1165\n",
      "################################# Heads #################################\n",
      "(head, <uncle>, tail) - One head has minimum 1 different tails\n",
      "(head, <uncle>, tail) - One head has in average 6.600378787878788 different tails\n",
      "(head, <uncle>, tail) - One head has median 5.0 different tails\n",
      "(head, <uncle>, tail) - One head has maximum 38 different tails\n",
      "################################# Heads #################################\n",
      "(head, <uncle>, tail) - One head has minimum 1 different heads\n",
      "(head, <uncle>, tail) - One head has in average 2.9914163090128754 different heads\n",
      "(head, <uncle>, tail) - One head has median 3.0 different heads\n",
      "(head, <uncle>, tail) - One head has maximum 11 different heads\n",
      "\n",
      "\n",
      "11. Relation <wife>\n",
      "Number of unique heads with relation <wife> : 1038\n",
      "Number of unique heads with relation <wife> : 976\n",
      "################################# Heads #################################\n",
      "(head, <wife>, tail) - One head has minimum 1 different tails\n",
      "(head, <wife>, tail) - One head has in average 1.0963391136801541 different tails\n",
      "(head, <wife>, tail) - One head has median 1.0 different tails\n",
      "(head, <wife>, tail) - One head has maximum 4 different tails\n",
      "################################# Heads #################################\n",
      "(head, <wife>, tail) - One head has minimum 1 different heads\n",
      "(head, <wife>, tail) - One head has in average 1.165983606557377 different heads\n",
      "(head, <wife>, tail) - One head has median 1.0 different heads\n",
      "(head, <wife>, tail) - One head has maximum 6 different heads\n"
     ]
    }
   ],
   "source": [
    "for i, rel in enumerate(all_triples.relation_to_id.keys()):    \n",
    "    idx= all_triples.mapped_triples[:, 1] == all_triples.relation_to_id[rel]\n",
    "    _triples = all_triples.mapped_triples[idx]\n",
    "    m_heads = _triples[:, 0]\n",
    "    m_tails = _triples[:, 2]\n",
    "    unique_heads = torch.unique(m_heads)\n",
    "    print('\\n')\n",
    "    print(f\"{i}. Relation <{rel}>\")\n",
    "    print(f\"Number of unique heads with relation <{rel}> : {len(unique_heads)}\")\n",
    "    unique_tails = torch.unique(m_tails)\n",
    "    print(f\"Number of unique heads with relation <{rel}> : {len(unique_tails)}\")\n",
    "    heads = {}\n",
    "    tails = {}\n",
    "    for head in unique_heads:\n",
    "        heads[head.item()] = len(_triples[_triples[:, 0] == head])\n",
    "    for tail in unique_tails:\n",
    "        tails[tail.item()] = len(_triples[_triples[:, 2] == tail])\n",
    "    print(\"################################# Heads #################################\")\n",
    "    print(f\"(head, <{rel}>, tail) - One head has minimum {min(heads.values())} different tails\")\n",
    "    print(f\"(head, <{rel}>, tail) - One head has in average {sum(heads.values())/len(heads.values())} different tails\")\n",
    "    print(f\"(head, <{rel}>, tail) - One head has median {np.median(list(heads.values()))} different tails\")\n",
    "    print(f\"(head, <{rel}>, tail) - One head has maximum {max(heads.values())} different tails\")\n",
    "    print(\"################################# Heads #################################\")\n",
    "    print(f\"(head, <{rel}>, tail) - One head has minimum {min(tails.values())} different heads\")\n",
    "    print(f\"(head, <{rel}>, tail) - One head has in average {sum(tails.values())/len(tails.values())} different heads\")\n",
    "    print(f\"(head, <{rel}>, tail) - One head has median {np.median(list(tails.values()))} different heads\")\n",
    "    print(f\"(head, <{rel}>, tail) - One head has maximum {max(tails.values())} different heads\")\n",
    "    "
   ]
  },
  {
   "cell_type": "markdown",
   "id": "6d9bfa158eb7fe1f",
   "metadata": {
    "collapsed": false
   },
   "source": [
    "\n",
    "## We can summarize on the relations: \n",
    "\n",
    "### Aunt: many-to-many\n",
    "> a person can have several aunts\n",
    "a person can be aunt for several other people\n",
    "theoretically and empirially \n",
    "\n",
    "### Brother: many-to-many\n",
    "> a person can have several brothers\n",
    "a person can be brother for several people. \n",
    "theoretically and empirically \n",
    "\n",
    "### Daughter: many-to-two\n",
    "> a person can have several daughters\n",
    "a person can be daughter for maximum two people\n",
    "\n",
    "### Father: one-to-many relation\n",
    "> a person has only one father\n",
    "a person can be father for several people\n",
    "\n",
    "### Husband: one-to-one\n",
    "> a person can have one husband\n",
    "a person can be husband for one person\n",
    "(some empirical exceptions in data)\n",
    "\n",
    "### Mother: one-to-many relation\n",
    "> a person has only one mother\n",
    "a person an be mother for several people\n",
    "\n",
    "### Nephew : many-to-many \n",
    "> a person can have several nephews\n",
    "a person can be nephew to several\n",
    "\n",
    "### Niece: many-to-many \n",
    "> a person can have several nieces\n",
    "a person can be niece to several\n",
    "\n",
    "### Sister: many-to-many\n",
    "> a person can have several sisters\n",
    "a person can be sister to several\n",
    "\n",
    "### Son: many-to-two\n",
    "> a person can have several sons\n",
    "a person can be the son of only two people \n",
    "\n",
    "### Uncle: many-to-many\n",
    "> a person can have several uncles\n",
    "a person can be uncle to several people\n",
    "\n",
    "### Wife: one-to-one\n",
    "> a person can have one wife\n",
    "a person can be the wife of several people\n",
    "(some exceptions in the data) \n",
    "\n",
    "The relations are read as follows : Aunt(x,y) = x is aunt of y. Aunt = \"isAuntOf\"\n"
   ]
  },
  {
   "cell_type": "code",
   "execution_count": null,
   "id": "ae9279f3dcbfb827",
   "metadata": {
    "collapsed": false
   },
   "outputs": [],
   "source": []
  }
 ],
 "metadata": {
  "kernelspec": {
   "display_name": "nesy_benchmark_ltn",
   "language": "python",
   "name": "python3"
  },
  "language_info": {
   "codemirror_mode": {
    "name": "ipython",
    "version": 3
   },
   "file_extension": ".py",
   "mimetype": "text/x-python",
   "name": "python",
   "nbconvert_exporter": "python",
   "pygments_lexer": "ipython3",
   "version": "3.11.8"
  }
 },
 "nbformat": 4,
 "nbformat_minor": 5
}
