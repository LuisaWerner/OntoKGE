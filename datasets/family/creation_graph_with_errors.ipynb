{
 "cells": [
  {
   "cell_type": "code",
   "execution_count": 7,
   "metadata": {},
   "outputs": [],
   "source": [
    "import random\n",
    "import os\n",
    "perc_removed = 0.10\n",
    "perc_error = 0.05\n",
    "nb_people = 3000\n",
    "relations = [\"male\", \"female\", \"father\", \"brother\", \"uncle\", \"aunt\", \"nephew\", \"daughter\", \"mother\", \"son\", \"sister\", \"wife\", \"husband\", \"parent\", \"grandparent\", \"cousin\", \"niece\"]\n",
    "\n",
    "def filter_relations(input_file, output_file):\n",
    "    # Remove the existing output file if it exists\n",
    "    if os.path.exists(output_file):\n",
    "        os.remove(output_file)\n",
    "\n",
    "    with open(input_file, 'r') as infile, open(output_file, 'w') as outfile:\n",
    "        for line in infile:\n",
    "            parts = line.split()\n",
    "            if random.randint(0,int(1/perc_removed)-1) != 0: #Then we add the line\n",
    "                if random.randint(0,int(1/perc_error)-1) != 0: #Then we let the line correct\n",
    "                    outfile.write(line)\n",
    "                else: #Then we add an error\n",
    "                    nb = random.randint(1,len(parts))\n",
    "                    if nb == 1:\n",
    "                        if len(parts) == 2:\n",
    "                            new_line = f\"{random.randint(1, nb_people)}\\t{parts[1]}\\n\" # modify the first element of the line, to a number between 1 and nb_people\n",
    "                        else:\n",
    "                            new_line = f\"{random.randint(1, nb_people)}\\t{parts[1]}\\t{parts[2]}\\n\" # modify the first element of the line, to a number between 1 and nb_people\n",
    "                    elif nb == 2:\n",
    "                        if len(parts) == 2:\n",
    "                            new_line = f\"{parts[0]}\\t{random.choice(relations[0:2])}\\n\" # modify the second element of the line, to a relation among the list relations\n",
    "                        else:\n",
    "                            new_line = f\"{parts[0]}\\t{random.choice(relations[2:])}\\t{parts[2]}\\n\" # modify the second element of the line, to a relation among the list relations\n",
    "                    else:\n",
    "                        new_line = f\"{parts[0]}\\t{parts[1]}\\t{random.randint(1, nb_people)}\\n\" # modify the third element of the line, to a number between 1 and nb_people\n",
    "\n",
    "                    outfile.write(new_line)\n",
    "\n",
    "# Example usage:\n",
    "input_file_path = 'train_sat.txt'\n",
    "output_file_path = 'train_sat_10_missing_5_error.txt'\n",
    "filter_relations(input_file_path, output_file_path)\n"
   ]
  }
 ],
 "metadata": {
  "kernelspec": {
   "display_name": "base",
   "language": "python",
   "name": "python3"
  },
  "language_info": {
   "codemirror_mode": {
    "name": "ipython",
    "version": 3
   },
   "file_extension": ".py",
   "mimetype": "text/x-python",
   "name": "python",
   "nbconvert_exporter": "python",
   "pygments_lexer": "ipython3",
   "version": "3.11.5"
  },
  "orig_nbformat": 4
 },
 "nbformat": 4,
 "nbformat_minor": 2
}
